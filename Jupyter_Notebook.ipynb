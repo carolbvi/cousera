{
  "metadata": {
    "kernelspec": {
      "name": "python",
      "display_name": "Pyolite",
      "language": "python"
    },
    "language_info": {
      "codemirror_mode": {
        "name": "python",
        "version": 3
      },
      "file_extension": ".py",
      "mimetype": "text/x-python",
      "name": "python",
      "nbconvert_exporter": "python",
      "pygments_lexer": "ipython3",
      "version": "3.8"
    }
  },
  "nbformat_minor": 4,
  "nbformat": 4,
  "cells": [
    {
      "cell_type": "code",
      "source": "#### Add your code below following the instructions given in the course\n",
      "metadata": {
        "jupyter": {
          "source_hidden": true
        },
        "tags": []
      },
      "execution_count": null,
      "outputs": []
    },
    {
      "cell_type": "markdown",
      "source": "# My Jupyter Notebook on IBM Watson Studio\n",
      "metadata": {}
    },
    {
      "cell_type": "markdown",
      "source": "**Carol**",
      "metadata": {}
    },
    {
      "cell_type": "markdown",
      "source": "Data analyst",
      "metadata": {}
    },
    {
      "cell_type": "markdown",
      "source": "*I am interested in data science because i love data*",
      "metadata": {}
    },
    {
      "cell_type": "markdown",
      "source": "### Find the average of 45, 56,89",
      "metadata": {}
    },
    {
      "cell_type": "code",
      "source": "(45+56+89)/3",
      "metadata": {
        "trusted": true
      },
      "execution_count": 2,
      "outputs": [
        {
          "execution_count": 2,
          "output_type": "execute_result",
          "data": {
            "text/plain": "63.333333333333336"
          },
          "metadata": {}
        }
      ]
    },
    {
      "cell_type": "markdown",
      "source": "Carol loves:",
      "metadata": {}
    },
    {
      "cell_type": "markdown",
      "source": "\n* eating\n* praying\n* reading\n\n",
      "metadata": {}
    },
    {
      "cell_type": "markdown",
      "source": "1. Baked potato\n2. Baked beans\n3. Pepper",
      "metadata": {}
    },
    {
      "cell_type": "markdown",
      "source": "Carol| zaza|Vuvu\n-----|-----|----- \n6|6|9\n5|9|8\n5|10|6\n4|8|8",
      "metadata": {}
    },
    {
      "cell_type": "code",
      "source": "",
      "metadata": {},
      "execution_count": null,
      "outputs": []
    }
  ]
}